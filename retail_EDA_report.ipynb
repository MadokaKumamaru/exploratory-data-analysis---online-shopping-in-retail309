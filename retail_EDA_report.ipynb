{
 "cells": [
  {
   "cell_type": "markdown",
   "metadata": {},
   "source": [
    "Import required packages:"
   ]
  },
  {
   "cell_type": "code",
   "execution_count": 32,
   "metadata": {},
   "outputs": [],
   "source": [
    "from sqlalchemy import create_engine\n",
    "import pandas as pd\n",
    "import yaml\n",
    "from statsmodels.graphics.gofplots import qqplot\n",
    "from scipy import stats\n",
    "from scipy.stats import yeojohnson\n",
    "import matplotlib.pyplot as plt\n",
    "import numpy as np\n",
    "import pandas as pd\n",
    "import seaborn as sns"
   ]
  },
  {
   "cell_type": "markdown",
   "metadata": {},
   "source": [
    "Import required modules:"
   ]
  },
  {
   "cell_type": "code",
   "execution_count": 33,
   "metadata": {},
   "outputs": [],
   "source": [
    "import db_utils\n",
    "import datatype_transform\n",
    "import dataframe_transform\n",
    "import dataframe_info\n",
    "import plotter"
   ]
  },
  {
   "cell_type": "markdown",
   "metadata": {},
   "source": [
    "Import data from RDS database:"
   ]
  },
  {
   "cell_type": "code",
   "execution_count": 34,
   "metadata": {},
   "outputs": [],
   "source": [
    "# Extract data from the RDS database\n",
    "customer_activity_class = db_utils.RDSDatabaseConnector(db_utils.yaml_dictionary)\n",
    "engine = customer_activity_class.connect_database()\n",
    "customer_activity = customer_activity_class.extract_data(engine)"
   ]
  },
  {
   "cell_type": "markdown",
   "metadata": {},
   "source": [
    "Convert data types:"
   ]
  },
  {
   "cell_type": "code",
   "execution_count": 35,
   "metadata": {},
   "outputs": [
    {
     "name": "stdout",
     "output_type": "stream",
     "text": [
      "Data types before the transformation:\n",
      "administrative              float64\n",
      "administrative_duration     float64\n",
      "informational                 int64\n",
      "informational_duration      float64\n",
      "product_related             float64\n",
      "product_related_duration    float64\n",
      "bounce_rates                float64\n",
      "exit_rates                  float64\n",
      "page_values                 float64\n",
      "month                        object\n",
      "operating_systems            object\n",
      "browser                      object\n",
      "region                       object\n",
      "traffic_type                 object\n",
      "visitor_type                 object\n",
      "weekend                        bool\n",
      "revenue                        bool\n",
      "dtype: object\n",
      "\n",
      "\n",
      "Data types after the transformation:\n",
      "administrative              category\n",
      "administrative_duration      float64\n",
      "informational               category\n",
      "informational_duration       float64\n",
      "product_related             category\n",
      "product_related_duration     float64\n",
      "bounce_rates                 float64\n",
      "exit_rates                   float64\n",
      "page_values                  float64\n",
      "month                       category\n",
      "operating_systems           category\n",
      "browser                     category\n",
      "region                      category\n",
      "traffic_type                category\n",
      "visitor_type                category\n",
      "weekend                         bool\n",
      "revenue                         bool\n",
      "dtype: object\n"
     ]
    }
   ],
   "source": [
    "# Get the data type for each column\n",
    "print('Data types before the transformation:')\n",
    "print(customer_activity.dtypes)\n",
    "         \n",
    "# Covert data types for some columns to category \n",
    "customer_activity_DataTransform = datatype_transform.DatatypeTransform(customer_activity)\n",
    "columns_to_transform = ['administrative', 'product_related', 'informational', \n",
    "                        'month', 'operating_systems', 'browser', 'region', \n",
    "                        'traffic_type', 'visitor_type']\n",
    "for column in columns_to_transform:\n",
    "    customer_activity_DataTransform.convert_to_category(column)\n",
    "    \n",
    "# Check if the columns have been transformed correctly  \n",
    "print('\\n')  \n",
    "print('Data types after the transformation:')\n",
    "print(customer_activity.dtypes)"
   ]
  },
  {
   "cell_type": "markdown",
   "metadata": {},
   "source": [
    "Following columns have been converted to category data type:\n",
    "- administrative\n",
    "- informational\n",
    "- product_related\n",
    "- month\n",
    "- operating_systems\n",
    "- browser\n",
    "- region\n",
    "- traffic_type\n",
    "- visitor_type"
   ]
  },
  {
   "cell_type": "markdown",
   "metadata": {},
   "source": [
    "Put columns into different groups based on data types:"
   ]
  },
  {
   "cell_type": "code",
   "execution_count": 36,
   "metadata": {},
   "outputs": [],
   "source": [
    "all_columns = customer_activity.columns\n",
    "numeric_columns = ['administrative_duration', 'informational_duration', 'product_related_duration',\n",
    "                   'bounce_rates', 'exit_rates', 'page_values']\n",
    "categorical_columns = ['administrative', 'informational', 'product_related', 'month',\n",
    "                       'operating_systems', 'browser', 'region', 'visitor_type']\n",
    "boolean_columns = ['weekend', 'revenue']"
   ]
  },
  {
   "cell_type": "markdown",
   "metadata": {},
   "source": [
    "Create instances of the classes:"
   ]
  },
  {
   "cell_type": "code",
   "execution_count": 37,
   "metadata": {},
   "outputs": [],
   "source": [
    "customer_activity_info = dataframe_info.DataFrameInfo(customer_activity)\n",
    "customer_activity_plot = plotter.Plotter(customer_activity)\n",
    "customer_activity_transform = dataframe_transform.DataFrameTransform(customer_activity)"
   ]
  },
  {
   "cell_type": "markdown",
   "metadata": {},
   "source": [
    "Get the information for the amount of missing values in each column:"
   ]
  },
  {
   "cell_type": "code",
   "execution_count": 38,
   "metadata": {},
   "outputs": [
    {
     "name": "stdout",
     "output_type": "stream",
     "text": [
      "Number of NULLs for administrative: 570\n",
      "Percentage of NULLs for administrative: 4.62 %\n",
      "Number of NULLs for administrative_duration: 912\n",
      "Percentage of NULLs for administrative_duration: 7.4 %\n",
      "Number of NULLs for informational: 0\n",
      "Percentage of NULLs for informational: 0.0 %\n",
      "Number of NULLs for informational_duration: 336\n",
      "Percentage of NULLs for informational_duration: 2.73 %\n",
      "Number of NULLs for product_related: 579\n",
      "Percentage of NULLs for product_related: 4.7 %\n",
      "Number of NULLs for product_related_duration: 201\n",
      "Percentage of NULLs for product_related_duration: 1.63 %\n",
      "Number of NULLs for bounce_rates: 0\n",
      "Percentage of NULLs for bounce_rates: 0.0 %\n",
      "Number of NULLs for exit_rates: 0\n",
      "Percentage of NULLs for exit_rates: 0.0 %\n",
      "Number of NULLs for page_values: 0\n",
      "Percentage of NULLs for page_values: 0.0 %\n",
      "Number of NULLs for month: 0\n",
      "Percentage of NULLs for month: 0.0 %\n",
      "Number of NULLs for operating_systems: 11\n",
      "Percentage of NULLs for operating_systems: 0.09 %\n",
      "Number of NULLs for browser: 0\n",
      "Percentage of NULLs for browser: 0.0 %\n",
      "Number of NULLs for region: 0\n",
      "Percentage of NULLs for region: 0.0 %\n",
      "Number of NULLs for traffic_type: 0\n",
      "Percentage of NULLs for traffic_type: 0.0 %\n",
      "Number of NULLs for visitor_type: 0\n",
      "Percentage of NULLs for visitor_type: 0.0 %\n",
      "Number of NULLs for weekend: 0\n",
      "Percentage of NULLs for weekend: 0.0 %\n",
      "Number of NULLs for revenue: 0\n",
      "Percentage of NULLs for revenue: 0.0 %\n"
     ]
    }
   ],
   "source": [
    "for column in all_columns:\n",
    "    customer_activity_info.get_NULL_counts(column)"
   ]
  },
  {
   "cell_type": "markdown",
   "metadata": {},
   "source": [
    "Following columns contain missing values:\n",
    "- administrative\n",
    "- administrative_duration\n",
    "- informational_duration\n",
    "- product_related\n",
    "- product_related_duration\n",
    "- operating_systems\n",
    "\n",
    "For categorical columns (administrative, product_realted, and operating_systems),\n",
    "mode imputation will be used.\n",
    "For numeric columns (administrative_duration, and product_related_duration) if\n",
    "it is skewed median imputation will be used and if it is symmetrical mean \n",
    "imputation will be used.\n",
    "\n",
    "Check the skewness for these two numeric columns with missing values:"
   ]
  },
  {
   "cell_type": "code",
   "execution_count": 39,
   "metadata": {},
   "outputs": [
    {
     "ename": "AttributeError",
     "evalue": "'DataFrameInfo' object has no attribute 'customer_activity'",
     "output_type": "error",
     "traceback": [
      "\u001b[1;31m---------------------------------------------------------------------------\u001b[0m",
      "\u001b[1;31mAttributeError\u001b[0m                            Traceback (most recent call last)",
      "Cell \u001b[1;32mIn[39], line 3\u001b[0m\n\u001b[0;32m      1\u001b[0m numeric_columns_missing_values \u001b[38;5;241m=\u001b[39m [\u001b[38;5;124m'\u001b[39m\u001b[38;5;124madministrative_duration\u001b[39m\u001b[38;5;124m'\u001b[39m, \u001b[38;5;124m'\u001b[39m\u001b[38;5;124mproduct_related_duration\u001b[39m\u001b[38;5;124m'\u001b[39m]\n\u001b[0;32m      2\u001b[0m \u001b[38;5;28;01mfor\u001b[39;00m column \u001b[38;5;129;01min\u001b[39;00m numeric_columns_missing_values:\n\u001b[1;32m----> 3\u001b[0m     \u001b[43mcustomer_activity_info\u001b[49m\u001b[38;5;241;43m.\u001b[39;49m\u001b[43mget_skewness\u001b[49m\u001b[43m(\u001b[49m\u001b[43mcolumn\u001b[49m\u001b[43m)\u001b[49m\n",
      "File \u001b[1;32mc:\\Users\\madok\\OneDrive\\Desktop\\exploratory-data-analysis---online-shopping-in-retail309\\dataframe_info.py:36\u001b[0m, in \u001b[0;36mDataFrameInfo.get_skewness\u001b[1;34m(self, column)\u001b[0m\n\u001b[0;32m     35\u001b[0m \u001b[38;5;28;01mdef\u001b[39;00m \u001b[38;5;21mget_skewness\u001b[39m(\u001b[38;5;28mself\u001b[39m, column):\n\u001b[1;32m---> 36\u001b[0m     \u001b[38;5;28mprint\u001b[39m(\u001b[38;5;124mf\u001b[39m\u001b[38;5;124m'\u001b[39m\u001b[38;5;124mSkew of \u001b[39m\u001b[38;5;132;01m{\u001b[39;00mcolumn\u001b[38;5;132;01m}\u001b[39;00m\u001b[38;5;124m is\u001b[39m\u001b[38;5;124m'\u001b[39m, \u001b[38;5;28;43mself\u001b[39;49m\u001b[38;5;241;43m.\u001b[39;49m\u001b[43mcustomer_activity\u001b[49m[column]\u001b[38;5;241m.\u001b[39mskew())\n",
      "\u001b[1;31mAttributeError\u001b[0m: 'DataFrameInfo' object has no attribute 'customer_activity'"
     ]
    }
   ],
   "source": [
    "numeric_columns_missing_values = ['administrative_duration', 'product_related_duration']\n",
    "for column in numeric_columns_missing_values:\n",
    "    customer_activity_info.get_skewness(column)"
   ]
  }
 ],
 "metadata": {
  "kernelspec": {
   "display_name": "Python 3",
   "language": "python",
   "name": "python3"
  },
  "language_info": {
   "codemirror_mode": {
    "name": "ipython",
    "version": 3
   },
   "file_extension": ".py",
   "mimetype": "text/x-python",
   "name": "python",
   "nbconvert_exporter": "python",
   "pygments_lexer": "ipython3",
   "version": "3.11.5"
  }
 },
 "nbformat": 4,
 "nbformat_minor": 2
}
